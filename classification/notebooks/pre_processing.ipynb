{
 "cells": [
  {
   "cell_type": "markdown",
   "metadata": {},
   "source": [
    "# **PRÉ-PROCESSAMENTO**"
   ]
  },
  {
   "cell_type": "markdown",
   "metadata": {},
   "source": [
    "#### Importação de dados e bibliotecas"
   ]
  },
  {
   "cell_type": "code",
   "execution_count": 22,
   "metadata": {},
   "outputs": [],
   "source": [
    "# Data Handling\n",
    "import pandas as pd\n",
    "import numpy as np\n",
    "from sklearn.model_selection import train_test_split\n",
    "\n",
    "# Data Visualization\n",
    "import matplotlib.pyplot as plt\n",
    "import seaborn as sns\n",
    "\n",
    "# Pre-Processing\n",
    "from sklearn.preprocessing import StandardScaler\n",
    "from imblearn.over_sampling import SMOTE\n",
    "\n",
    "plt.style.use('Solarize_Light2')"
   ]
  },
  {
   "cell_type": "code",
   "execution_count": 23,
   "metadata": {},
   "outputs": [],
   "source": [
    "df = pd.read_csv(filepath_or_buffer=\"../data/water_potability.csv\")"
   ]
  },
  {
   "cell_type": "markdown",
   "metadata": {},
   "source": [
    "### DADOS FALTANTES"
   ]
  },
  {
   "cell_type": "code",
   "execution_count": 24,
   "metadata": {},
   "outputs": [
    {
     "data": {
      "text/plain": [
       "Text(0, 0.5, 'Dados Faltantes')"
      ]
     },
     "execution_count": 24,
     "metadata": {},
     "output_type": "execute_result"
    },
    {
     "data": {
      "image/png": "[encoded data removed]",
      "text/plain": [
       "<Figure size 1500x400 with 1 Axes>"
      ]
     },
     "metadata": {},
     "output_type": "display_data"
    }
   ],
   "source": [
    "plt.figure(figsize=(15,4))\n",
    "sns.barplot(\n",
    "    x=df.isnull().sum()[(df.isnull().sum() > 0)].index,\n",
    "    y=(df.isnull().sum()[(df.isnull().sum() > 0)] / df.shape[0]) * 100\n",
    ")\n",
    "plt.title(\"Dados Faltantes | Gráfico de barras\")\n",
    "plt.xlabel(\"Colunas\")\n",
    "plt.ylabel(\"Dados Faltantes\")"
   ]
  },
  {
   "cell_type": "code",
   "execution_count": 25,
   "metadata": {},
   "outputs": [],
   "source": [
    "df.fillna(\n",
    "    value= {\n",
    "        'ph':df.ph.mean(),\n",
    "        'Trihalomethanes':df.Trihalomethanes.mean()\n",
    "    }, inplace=True)\n",
    "df.drop(columns=\"Sulfate\", inplace=True)"
   ]
  },
  {
   "cell_type": "code",
   "execution_count": 26,
   "metadata": {},
   "outputs": [
    {
     "data": {
      "text/html": [
       "<div>\n",
       "<style scoped>\n",
       "    .dataframe tbody tr th:only-of-type {\n",
       "        vertical-align: middle;\n",
       "    }\n",
       "\n",
       "    .dataframe tbody tr th {\n",
       "        vertical-align: top;\n",
       "    }\n",
       "\n",
       "    .dataframe thead th {\n",
       "        text-align: right;\n",
       "    }\n",
       "</style>\n",
       "<table border=\"1\" class=\"dataframe\">\n",
       "  <thead>\n",
       "    <tr style=\"text-align: right;\">\n",
       "      <th></th>\n",
       "      <th>Percentual (%)</th>\n",
       "      <th>Quantidade</th>\n",
       "    </tr>\n",
       "  </thead>\n",
       "  <tbody>\n",
       "    <tr>\n",
       "      <th>ph</th>\n",
       "      <td>0.0</td>\n",
       "      <td>0</td>\n",
       "    </tr>\n",
       "    <tr>\n",
       "      <th>Hardness</th>\n",
       "      <td>0.0</td>\n",
       "      <td>0</td>\n",
       "    </tr>\n",
       "    <tr>\n",
       "      <th>Solids</th>\n",
       "      <td>0.0</td>\n",
       "      <td>0</td>\n",
       "    </tr>\n",
       "    <tr>\n",
       "      <th>Chloramines</th>\n",
       "      <td>0.0</td>\n",
       "      <td>0</td>\n",
       "    </tr>\n",
       "    <tr>\n",
       "      <th>Conductivity</th>\n",
       "      <td>0.0</td>\n",
       "      <td>0</td>\n",
       "    </tr>\n",
       "    <tr>\n",
       "      <th>Organic_carbon</th>\n",
       "      <td>0.0</td>\n",
       "      <td>0</td>\n",
       "    </tr>\n",
       "    <tr>\n",
       "      <th>Trihalomethanes</th>\n",
       "      <td>0.0</td>\n",
       "      <td>0</td>\n",
       "    </tr>\n",
       "    <tr>\n",
       "      <th>Turbidity</th>\n",
       "      <td>0.0</td>\n",
       "      <td>0</td>\n",
       "    </tr>\n",
       "    <tr>\n",
       "      <th>Potability</th>\n",
       "      <td>0.0</td>\n",
       "      <td>0</td>\n",
       "    </tr>\n",
       "  </tbody>\n",
       "</table>\n",
       "</div>"
      ],
      "text/plain": [
       "                 Percentual (%)  Quantidade\n",
       "ph                          0.0           0\n",
       "Hardness                    0.0           0\n",
       "Solids                      0.0           0\n",
       "Chloramines                 0.0           0\n",
       "Conductivity                0.0           0\n",
       "Organic_carbon              0.0           0\n",
       "Trihalomethanes             0.0           0\n",
       "Turbidity                   0.0           0\n",
       "Potability                  0.0           0"
      ]
     },
     "execution_count": 26,
     "metadata": {},
     "output_type": "execute_result"
    }
   ],
   "source": [
    "pd.DataFrame(data={\n",
    "    \"Percentual (%)\": round((df.isnull().sum() / df.shape[0]) * 100, 3),\n",
    "    \"Quantidade\": df.isnull().sum()\n",
    "})"
   ]
  },
  {
   "cell_type": "markdown",
   "metadata": {},
   "source": [
    "### NORMALIZAÇÃO"
   ]
  },
  {
   "cell_type": "code",
   "execution_count": 27,
   "metadata": {},
   "outputs": [],
   "source": [
    "X = df.drop(['Potability'], axis=1)\n",
    "y = df.Potability\n",
    "\n",
    "X_train, X_test, y_train, y_test = train_test_split(X,y, test_size=0.20, random_state=2024)"
   ]
  },
  {
   "cell_type": "code",
   "execution_count": 28,
   "metadata": {},
   "outputs": [
    {
     "name": "stdout",
     "output_type": "stream",
     "text": [
      "(2620, 8)\n",
      "(656, 8)\n",
      "(2620,)\n",
      "(656,)\n"
     ]
    }
   ],
   "source": [
    "print(X_train.shape)\n",
    "print(X_test.shape)\n",
    "print(y_train.shape)\n",
    "print(y_test.shape)"
   ]
  },
  {
   "cell_type": "code",
   "execution_count": 29,
   "metadata": {},
   "outputs": [],
   "source": [
    "scaler = StandardScaler().fit(X_train)\n",
    "X_train = scaler.transform(X_train)\n",
    "X_test = scaler.transform(X_test)\n",
    "\n",
    "dataset_train = pd.DataFrame(\n",
    "    data=X_train.tolist(),\n",
    "    columns=X.columns\n",
    ")\n",
    "dataset_train['Potability']=y_train.tolist()\n",
    "\n",
    "dataset_test = pd.DataFrame(\n",
    "    data=X_test.tolist(),\n",
    "    columns=X.columns\n",
    ")\n",
    "dataset_test['Potability']=y_test.tolist()"
   ]
  },
  {
   "cell_type": "code",
   "execution_count": 30,
   "metadata": {},
   "outputs": [
    {
     "data": {
      "text/html": [
       "<div>\n",
       "<style scoped>\n",
       "    .dataframe tbody tr th:only-of-type {\n",
       "        vertical-align: middle;\n",
       "    }\n",
       "\n",
       "    .dataframe tbody tr th {\n",
       "        vertical-align: top;\n",
       "    }\n",
       "\n",
       "    .dataframe thead th {\n",
       "        text-align: right;\n",
       "    }\n",
       "</style>\n",
       "<table border=\"1\" class=\"dataframe\">\n",
       "  <thead>\n",
       "    <tr style=\"text-align: right;\">\n",
       "      <th></th>\n",
       "      <th>ph</th>\n",
       "      <th>Hardness</th>\n",
       "      <th>Solids</th>\n",
       "      <th>Chloramines</th>\n",
       "      <th>Conductivity</th>\n",
       "      <th>Organic_carbon</th>\n",
       "      <th>Trihalomethanes</th>\n",
       "      <th>Turbidity</th>\n",
       "      <th>Potability</th>\n",
       "    </tr>\n",
       "  </thead>\n",
       "  <tbody>\n",
       "    <tr>\n",
       "      <th>0</th>\n",
       "      <td>-0.001067</td>\n",
       "      <td>-1.988743</td>\n",
       "      <td>-0.059232</td>\n",
       "      <td>0.065902</td>\n",
       "      <td>-0.447865</td>\n",
       "      <td>0.170714</td>\n",
       "      <td>-2.577280</td>\n",
       "      <td>0.960783</td>\n",
       "      <td>1</td>\n",
       "    </tr>\n",
       "    <tr>\n",
       "      <th>1</th>\n",
       "      <td>0.051393</td>\n",
       "      <td>-1.070033</td>\n",
       "      <td>0.394411</td>\n",
       "      <td>1.940758</td>\n",
       "      <td>-1.198157</td>\n",
       "      <td>0.354426</td>\n",
       "      <td>-0.985578</td>\n",
       "      <td>0.403919</td>\n",
       "      <td>1</td>\n",
       "    </tr>\n",
       "    <tr>\n",
       "      <th>2</th>\n",
       "      <td>-0.043633</td>\n",
       "      <td>-0.804413</td>\n",
       "      <td>-0.225934</td>\n",
       "      <td>-1.186378</td>\n",
       "      <td>1.065193</td>\n",
       "      <td>0.372145</td>\n",
       "      <td>-0.119101</td>\n",
       "      <td>1.179580</td>\n",
       "      <td>1</td>\n",
       "    </tr>\n",
       "  </tbody>\n",
       "</table>\n",
       "</div>"
      ],
      "text/plain": [
       "         ph  Hardness    Solids  Chloramines  Conductivity  Organic_carbon  \\\n",
       "0 -0.001067 -1.988743 -0.059232     0.065902     -0.447865        0.170714   \n",
       "1  0.051393 -1.070033  0.394411     1.940758     -1.198157        0.354426   \n",
       "2 -0.043633 -0.804413 -0.225934    -1.186378      1.065193        0.372145   \n",
       "\n",
       "   Trihalomethanes  Turbidity  Potability  \n",
       "0        -2.577280   0.960783           1  \n",
       "1        -0.985578   0.403919           1  \n",
       "2        -0.119101   1.179580           1  "
      ]
     },
     "metadata": {},
     "output_type": "display_data"
    },
    {
     "data": {
      "text/html": [
       "<div>\n",
       "<style scoped>\n",
       "    .dataframe tbody tr th:only-of-type {\n",
       "        vertical-align: middle;\n",
       "    }\n",
       "\n",
       "    .dataframe tbody tr th {\n",
       "        vertical-align: top;\n",
       "    }\n",
       "\n",
       "    .dataframe thead th {\n",
       "        text-align: right;\n",
       "    }\n",
       "</style>\n",
       "<table border=\"1\" class=\"dataframe\">\n",
       "  <thead>\n",
       "    <tr style=\"text-align: right;\">\n",
       "      <th></th>\n",
       "      <th>ph</th>\n",
       "      <th>Hardness</th>\n",
       "      <th>Solids</th>\n",
       "      <th>Chloramines</th>\n",
       "      <th>Conductivity</th>\n",
       "      <th>Organic_carbon</th>\n",
       "      <th>Trihalomethanes</th>\n",
       "      <th>Turbidity</th>\n",
       "      <th>Potability</th>\n",
       "    </tr>\n",
       "  </thead>\n",
       "  <tbody>\n",
       "    <tr>\n",
       "      <th>0</th>\n",
       "      <td>1.318415</td>\n",
       "      <td>-0.823541</td>\n",
       "      <td>-2.036460</td>\n",
       "      <td>-0.831399</td>\n",
       "      <td>0.557877</td>\n",
       "      <td>0.574673</td>\n",
       "      <td>-0.241809</td>\n",
       "      <td>-1.481409</td>\n",
       "      <td>0</td>\n",
       "    </tr>\n",
       "    <tr>\n",
       "      <th>1</th>\n",
       "      <td>-0.194573</td>\n",
       "      <td>-0.937569</td>\n",
       "      <td>-0.498982</td>\n",
       "      <td>-1.340859</td>\n",
       "      <td>-0.700690</td>\n",
       "      <td>0.260039</td>\n",
       "      <td>1.942884</td>\n",
       "      <td>0.086184</td>\n",
       "      <td>0</td>\n",
       "    </tr>\n",
       "    <tr>\n",
       "      <th>2</th>\n",
       "      <td>0.213070</td>\n",
       "      <td>0.690166</td>\n",
       "      <td>-1.602566</td>\n",
       "      <td>-0.513522</td>\n",
       "      <td>1.139277</td>\n",
       "      <td>0.274742</td>\n",
       "      <td>-1.008232</td>\n",
       "      <td>1.154711</td>\n",
       "      <td>0</td>\n",
       "    </tr>\n",
       "  </tbody>\n",
       "</table>\n",
       "</div>"
      ],
      "text/plain": [
       "         ph  Hardness    Solids  Chloramines  Conductivity  Organic_carbon  \\\n",
       "0  1.318415 -0.823541 -2.036460    -0.831399      0.557877        0.574673   \n",
       "1 -0.194573 -0.937569 -0.498982    -1.340859     -0.700690        0.260039   \n",
       "2  0.213070  0.690166 -1.602566    -0.513522      1.139277        0.274742   \n",
       "\n",
       "   Trihalomethanes  Turbidity  Potability  \n",
       "0        -0.241809  -1.481409           0  \n",
       "1         1.942884   0.086184           0  \n",
       "2        -1.008232   1.154711           0  "
      ]
     },
     "metadata": {},
     "output_type": "display_data"
    }
   ],
   "source": [
    "display(dataset_train.head(n=3))\n",
    "display(dataset_test.head(n=3))"
   ]
  },
  {
   "cell_type": "markdown",
   "metadata": {},
   "source": [
    "### BALANCEAMENTO DO ATRIBUTO ALVO"
   ]
  },
  {
   "cell_type": "code",
   "execution_count": 31,
   "metadata": {},
   "outputs": [
    {
     "name": "stderr",
     "output_type": "stream",
     "text": [
      "C:\\Users\\luan-\\AppData\\Local\\Temp\\ipykernel_6408\\1136432257.py:10: UserWarning: No artists with labels found to put in legend.  Note that artists whose label start with an underscore are ignored when legend() is called with no argument.\n",
      "  plt.legend()\n"
     ]
    },
    {
     "data": {
      "text/plain": [
       "Text(0.5, 1.0, 'Gráfico de pizza (Atributo alvo)')"
      ]
     },
     "execution_count": 31,
     "metadata": {},
     "output_type": "execute_result"
    },
    {
     "data": {
      "image/png": "[encoded data removed]",
      "text/plain": [
       "<Figure size 300x300 with 1 Axes>"
      ]
     },
     "metadata": {},
     "output_type": "display_data"
    }
   ],
   "source": [
    "plt.figure(figsize=(3,3))\n",
    "plt.pie(\n",
    "        x=dataset_train['Potability'].value_counts(),\n",
    "        explode=[0.1, 0],\n",
    "        shadow=True,\n",
    "        labeldistance=0.3,\n",
    "        startangle=90,\n",
    "        rotatelabels=True\n",
    ")\n",
    "plt.legend()\n",
    "plt.title('Gráfico de pizza (Atributo alvo)')"
   ]
  },
  {
   "cell_type": "code",
   "execution_count": 32,
   "metadata": {},
   "outputs": [],
   "source": [
    "X = dataset_train.drop(['Potability'], axis=1)\n",
    "y = dataset_train.Potability "
   ]
  },
  {
   "cell_type": "code",
   "execution_count": 33,
   "metadata": {},
   "outputs": [],
   "source": [
    "smote = SMOTE(random_state=1)\n",
    "X_train, y_train = smote.fit_resample(X, y)"
   ]
  },
  {
   "cell_type": "code",
   "execution_count": 34,
   "metadata": {},
   "outputs": [],
   "source": [
    "dataset_train = pd.DataFrame(\n",
    "    data=X_train, \n",
    "    columns=X.columns)\n",
    "dataset_train['Potability']=y_train"
   ]
  },
  {
   "cell_type": "code",
   "execution_count": 35,
   "metadata": {},
   "outputs": [
    {
     "name": "stderr",
     "output_type": "stream",
     "text": [
      "C:\\Users\\luan-\\AppData\\Local\\Temp\\ipykernel_6408\\1136432257.py:10: UserWarning: No artists with labels found to put in legend.  Note that artists whose label start with an underscore are ignored when legend() is called with no argument.\n",
      "  plt.legend()\n"
     ]
    },
    {
     "data": {
      "text/plain": [
       "Text(0.5, 1.0, 'Gráfico de pizza (Atributo alvo)')"
      ]
     },
     "execution_count": 35,
     "metadata": {},
     "output_type": "execute_result"
    },
    {
     "data": {
      "image/png": "[encoded data removed]",
      "text/plain": [
       "<Figure size 300x300 with 1 Axes>"
      ]
     },
     "metadata": {},
     "output_type": "display_data"
    }
   ],
   "source": [
    "plt.figure(figsize=(3,3))\n",
    "plt.pie(\n",
    "        x=dataset_train['Potability'].value_counts(),\n",
    "        explode=[0.1, 0],\n",
    "        shadow=True,\n",
    "        labeldistance=0.3,\n",
    "        startangle=90,\n",
    "        rotatelabels=True\n",
    ")\n",
    "plt.legend()\n",
    "plt.title('Gráfico de pizza (Atributo alvo)')"
   ]
  },
  {
   "cell_type": "markdown",
   "metadata": {},
   "source": [
    "### EXPORT"
   ]
  },
  {
   "cell_type": "code",
   "execution_count": 36,
   "metadata": {},
   "outputs": [],
   "source": [
    "dataset_train.to_csv(path_or_buf=\"../data/train.csv\")\n",
    "dataset_test.to_csv(path_or_buf=\"../data/test.csv\")"
   ]
  }
 ],
 "metadata": {
  "kernelspec": {
   "display_name": ".venv",
   "language": "python",
   "name": "python3"
  },
  "language_info": {
   "codemirror_mode": {
    "name": "ipython",
    "version": 3
   },
   "file_extension": ".py",
   "mimetype": "text/x-python",
   "name": "python",
   "nbconvert_exporter": "python",
   "pygments_lexer": "ipython3",
   "version": "3.10.11"
  }
 },
 "nbformat": 4,
 "nbformat_minor": 2
}
